{
  "nbformat": 4,
  "nbformat_minor": 0,
  "metadata": {
    "colab": {
      "provenance": []
    },
    "kernelspec": {
      "name": "python3",
      "display_name": "Python 3"
    },
    "language_info": {
      "name": "python"
    }
  },
  "cells": [
    {
      "cell_type": "code",
      "source": [
        "import json\n",
        "import numpy as np\n",
        "from scipy import stats"
      ],
      "metadata": {
        "id": "_6Wyx6jHRnlm"
      },
      "execution_count": 3,
      "outputs": []
    },
    {
      "cell_type": "code",
      "execution_count": 4,
      "metadata": {
        "id": "F4DB21lw_Olj"
      },
      "outputs": [],
      "source": [
        "def clean_sleep_data(input_file_path, output_file_path):\n",
        "    with open(input_file_path, 'r') as f:\n",
        "        data = json.load(f)\n",
        "\n",
        "    # keys to remove\n",
        "    keys_to_remove = [\"heart_rate\", \"awake_time\", \"bedtime_end_delta\", \"average_breath_variation\",\n",
        "                      \"average_heart_rate\", \"average_hrv\", \"contributors\", \"efficiency\",\n",
        "                      \"got_ups\", \"heart_rate\", \"hrv\", \"latency\", \"lowest_heart_rate\",\n",
        "                      \"lowest_heart_rate_time_offset\", \"movement_30_sec\", \"period\",\n",
        "                      \"readiness\", \"readiness_score_delta\", \"restless_periods\"\n",
        "                      \"score\", \"segment_state\", \"sleep_algorithm_version\",\n",
        "                      \"sleep_midpoint\", \"sleep_score_delta\", \"type\", \"wake_ups\",\n",
        "                      \"sleep_phase_5_min\", \"timezone\", \"bedtime_start_delta\",\n",
        "                      \"bedtime_end_delta\", \"midpoint_at_delta\", \"restless_periods\",\n",
        "                      \"score\", \"time_in_bed\", \"total_sleep_duration\", \"restless\"]\n",
        "\n",
        "    # Iterate over each entry and remove irrelevant keys\n",
        "    for entry in data['sleep']:\n",
        "        for key in keys_to_remove:\n",
        "            if key in entry:\n",
        "                del entry[key]\n",
        "\n",
        "    # Write cleaned data to a new JSON file\n",
        "    with open(output_file_path, 'w') as f:\n",
        "        json.dump(data, f, indent=2)\n",
        "\n",
        "input_file_path = 'oura_sleepData.json'\n",
        "output_file_path = 'cleaned_oura_SleepData.json'\n",
        "clean_sleep_data(input_file_path, output_file_path)\n"
      ]
    },
    {
      "cell_type": "code",
      "source": [
        "def clean_sleep_data_garmin(input_file_path, output_file_path):\n",
        "    with open(input_file_path, 'r') as f:\n",
        "        data = json.load(f)\n",
        "\n",
        "    # keys to remove\n",
        "    keys_to_remove = [\"sleepWindowConfirmationType\", \"unmeasurableSeconds\",\n",
        "                      \"lowestRespiration\", \"highestRespiration\", \"retro\",\n",
        "                      \"awakeSleepSeconds\"]\n",
        "\n",
        "    # Iterate over each entry and remove unnecessary keys\n",
        "    for entry in data:\n",
        "        for key in keys_to_remove:\n",
        "            if key in entry:\n",
        "                del entry[key]\n",
        "\n",
        "    # Write modified data to a new JSON file\n",
        "    with open(output_file_path, 'w') as f:\n",
        "        json.dump(data, f, indent=2)\n",
        "\n",
        "input_file_path = 'garmin_sleepData.json'\n",
        "output_file_path = 'cleaned_garmin_sleepData.json'\n",
        "clean_sleep_data_garmin(input_file_path, output_file_path)\n"
      ],
      "metadata": {
        "id": "4PW75kXiDkaf"
      },
      "execution_count": 5,
      "outputs": []
    },
    {
      "cell_type": "code",
      "source": [
        "# Load data from JSON files\n",
        "with open(\"cleaned_oura_SleepData.json\", \"r\") as file:\n",
        "    ouraData = json.load(file)\n",
        "\n",
        "with open(\"cleaned_garmin_sleepData.json\", \"r\") as file:\n",
        "    garminData = json.load(file)"
      ],
      "metadata": {
        "id": "5uWx2xA4LZpL"
      },
      "execution_count": 6,
      "outputs": []
    },
    {
      "cell_type": "code",
      "source": [
        "ouraData = ouraData[\"sleep\"]"
      ],
      "metadata": {
        "id": "xHJhdLMvLf9b"
      },
      "execution_count": 7,
      "outputs": []
    },
    {
      "cell_type": "code",
      "source": [
        "# Extract relevant variables\n",
        "deep_sleep_ouraData = [entry[\"deep_sleep_duration\"] for entry in ouraData]\n",
        "deep_sleep_garminData = [entry[\"deepSleepSeconds\"] for entry in garminData]\n",
        "\n",
        "light_sleep_ouraData = [entry[\"light_sleep_duration\"] for entry in ouraData]\n",
        "light_sleep_garminData = [entry[\"lightSleepSeconds\"] for entry in garminData]\n",
        "\n",
        "rem_sleep_ouraData = [entry[\"rem_sleep_duration\"] for entry in ouraData]\n",
        "rem_sleep_garminData = [entry[\"remSleepSeconds\"] for entry in garminData]\n",
        "\n",
        "average_respiration_ouraData = [entry[\"average_breath\"] for entry in ouraData]\n",
        "average_respiration_garminData = [entry[\"averageRespiration\"] for entry in garminData]\n",
        "\n",
        "bedtime_start_ouraData = [entry[\"bedtime_start\"] for entry in ouraData]\n",
        "bedtime_start_garminData = [entry[\"sleepStartTimestampGMT\"] for entry in garminData]\n",
        "\n",
        "bedtime_end_ouraData = [entry[\"bedtime_end\"] for entry in ouraData]\n",
        "bedtime_end_garminData = [entry[\"sleepEndTimestampGMT\"] for entry in garminData]"
      ],
      "metadata": {
        "id": "kQz3Gc46I6dk"
      },
      "execution_count": 8,
      "outputs": []
    },
    {
      "cell_type": "code",
      "source": [
        "# Deep Sleep\n",
        "print(\"Descriptive Statistics - Deep Sleep Seconds - Oura:\")\n",
        "print(\"Mean: \", np.mean(deep_sleep_ouraData), \", Median: \", np.median(deep_sleep_ouraData), \", Standard Deviation: \", np.std(deep_sleep_ouraData), \"\\n\")\n",
        "\n",
        "print(\"Descriptive Statistics - Deep Sleep Seconds - Garmin:\")\n",
        "print(\"Mean: \", np.mean(deep_sleep_garminData), \", Median: \", np.median(deep_sleep_garminData), \", Standard Deviation: \", np.std(deep_sleep_garminData), \"\\n\")\n",
        "\n",
        "# Light Sleep\n",
        "print(\"Descriptive Statistics - Light Sleep Seconds - Oura:\")\n",
        "print(\"Mean: \", np.mean(light_sleep_ouraData), \", Median: \", np.median(light_sleep_ouraData), \", Standard Deviation: \", np.std(light_sleep_ouraData), \"\\n\")\n",
        "\n",
        "print(\"Descriptive Statistics - Light Sleep Seconds - Garmin:\")\n",
        "print(\"Mean: \", np.mean(light_sleep_garminData), \", Median: \", np.median(light_sleep_garminData), \", Standard Deviation: \", np.std(light_sleep_garminData), \"\\n\")\n",
        "\n",
        "# REM Sleep\n",
        "print(\"Descriptive Statistics - REM Sleep Seconds - Oura:\")\n",
        "print(\"Mean: \", np.mean(rem_sleep_ouraData), \", Median: \", np.median(rem_sleep_ouraData), \", Standard Deviation: \", np.std(rem_sleep_ouraData), \"\\n\")\n",
        "\n",
        "print(\"Descriptive Statistics - REM Sleep Seconds - Garmin:\")\n",
        "print(\"Mean: \", np.mean(rem_sleep_garminData), \", Median: \", np.median(rem_sleep_garminData), \", Standard Deviation: \", np.std(rem_sleep_garminData), \"\\n\")\n",
        "\n",
        "# Average Respiration\n",
        "print(\"Descriptive Statistics - Average Respiration - Oura:\")\n",
        "print(\"Mean: \", np.mean(average_respiration_ouraData), \", Median: \", np.median(average_respiration_ouraData), \", Standard Deviation: \", np.std(average_respiration_ouraData), \"\\n\")\n",
        "\n",
        "print(\"Descriptive Statistics - Average Respiration - Garmin:\")\n",
        "print(\"Mean: \", np.mean(average_respiration_garminData), \", Median: \", np.median(average_respiration_garminData), \", Standard Deviation: \", np.std(average_respiration_garminData), \"\\n\")\n"
      ],
      "metadata": {
        "colab": {
          "base_uri": "https://localhost:8080/"
        },
        "id": "obqf8-N0MCHi",
        "outputId": "eeca7ff5-c133-4bf4-af6d-90147af94a70"
      },
      "execution_count": 9,
      "outputs": [
        {
          "output_type": "stream",
          "name": "stdout",
          "text": [
            "Descriptive Statistics - Deep Sleep Seconds - Oura:\n",
            "Mean:  5670.0 , Median:  5970.0 , Standard Deviation:  1794.1906253238533 \n",
            "\n",
            "Descriptive Statistics - Deep Sleep Seconds - Garmin:\n",
            "Mean:  5245.714285714285 , Median:  5370.0 , Standard Deviation:  2786.769031091931 \n",
            "\n",
            "Descriptive Statistics - Light Sleep Seconds - Oura:\n",
            "Mean:  11682.0 , Median:  13500.0 , Standard Deviation:  3768.152863141303 \n",
            "\n",
            "Descriptive Statistics - Light Sleep Seconds - Garmin:\n",
            "Mean:  16242.857142857143 , Median:  16500.0 , Standard Deviation:  3401.6370608690086 \n",
            "\n",
            "Descriptive Statistics - REM Sleep Seconds - Oura:\n",
            "Mean:  6074.0 , Median:  6900.0 , Standard Deviation:  2173.31635985192 \n",
            "\n",
            "Descriptive Statistics - REM Sleep Seconds - Garmin:\n",
            "Mean:  6085.714285714285 , Median:  5880.0 , Standard Deviation:  2053.407322635492 \n",
            "\n",
            "Descriptive Statistics - Average Respiration - Oura:\n",
            "Mean:  15.533333333333333 , Median:  15.5 , Standard Deviation:  0.37490739597339984 \n",
            "\n",
            "Descriptive Statistics - Average Respiration - Garmin:\n",
            "Mean:  13.142857142857142 , Median:  13.0 , Standard Deviation:  0.8329931278350431 \n",
            "\n"
          ]
        }
      ]
    }
  ]
}