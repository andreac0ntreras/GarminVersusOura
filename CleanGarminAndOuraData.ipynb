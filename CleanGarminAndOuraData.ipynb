{
  "nbformat": 4,
  "nbformat_minor": 0,
  "metadata": {
    "colab": {
      "provenance": []
    },
    "kernelspec": {
      "name": "python3",
      "display_name": "Python 3"
    },
    "language_info": {
      "name": "python"
    }
  },
  "cells": [
    {
      "cell_type": "code",
      "execution_count": 6,
      "metadata": {
        "id": "F4DB21lw_Olj"
      },
      "outputs": [],
      "source": [
        "import json\n",
        "\n",
        "def clean_sleep_data(input_file_path, output_file_path):\n",
        "    with open(input_file_path, 'r') as f:\n",
        "        data = json.load(f)\n",
        "\n",
        "    # keys to remove\n",
        "    keys_to_remove = [\"heart_rate\", \"awake_time\", \"bedtime_end_delta\", \"average_breath_variation\",\n",
        "                      \"average_heart_rate\", \"average_hrv\", \"contributors\", \"efficiency\",\n",
        "                      \"got_ups\", \"heart_rate\", \"hrv\", \"latency\", \"lowest_heart_rate\",\n",
        "                      \"lowest_heart_rate_time_offset\", \"movement_30_sec\", \"period\",\n",
        "                      \"readiness\", \"readiness_score_delta\", \"restless_periods\"\n",
        "                      \"score\", \"segment_state\", \"sleep_algorithm_version\",\n",
        "                      \"sleep_midpoint\", \"sleep_score_delta\", \"type\", \"wake_ups\",\n",
        "                      \"sleep_phase_5_min\", \"timezone\", \"bedtime_start_delta\",\n",
        "                      \"bedtime_end_delta\", \"midpoint_at_delta\", \"restless_periods\",\n",
        "                      \"score\", \"time_in_bed\", \"total_sleep_duration\", \"restless\"]\n",
        "\n",
        "    # Iterate over each entry and remove irrelevant keys\n",
        "    for entry in data['sleep']:\n",
        "        for key in keys_to_remove:\n",
        "            if key in entry:\n",
        "                del entry[key]\n",
        "\n",
        "    # Write cleaned data to a new JSON file\n",
        "    with open(output_file_path, 'w') as f:\n",
        "        json.dump(data, f, indent=2)\n",
        "\n",
        "input_file_path = 'oura_sleepData.json'\n",
        "output_file_path = 'cleaned_oura_SleepData.json'\n",
        "clean_sleep_data(input_file_path, output_file_path)\n"
      ]
    },
    {
      "cell_type": "code",
      "source": [
        "import json\n",
        "\n",
        "def clean_sleep_data_garmin(input_file_path, output_file_path):\n",
        "    with open(input_file_path, 'r') as f:\n",
        "        data = json.load(f)\n",
        "\n",
        "    # keys to remove\n",
        "    keys_to_remove = [\"sleepWindowConfirmationType\", \"unmeasurableSeconds\",\n",
        "                      \"lowestRespiration\", \"highestRespiration\", \"retro\",\n",
        "                      \"awakeSleepSeconds\"]\n",
        "\n",
        "    # Iterate over each entry and remove unnecessary keys\n",
        "    for entry in data:\n",
        "        for key in keys_to_remove:\n",
        "            if key in entry:\n",
        "                del entry[key]\n",
        "\n",
        "    # Write modified data to a new JSON file\n",
        "    with open(output_file_path, 'w') as f:\n",
        "        json.dump(data, f, indent=2)\n",
        "\n",
        "input_file_path = 'garmin_sleepData.json'\n",
        "output_file_path = 'cleaned_garmin_sleepData.json'\n",
        "clean_sleep_data_garmin(input_file_path, output_file_path)\n"
      ],
      "metadata": {
        "id": "4PW75kXiDkaf"
      },
      "execution_count": 7,
      "outputs": []
    }
  ]
}